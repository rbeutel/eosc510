{
 "cells": [
  {
   "cell_type": "markdown",
   "metadata": {},
   "source": [
    "# Load and Neah Bay Climate data\n",
    "This historical data can be found at https://www.ndbc.noaa.gov/station_page.php?station=46087"
   ]
  },
  {
   "cell_type": "code",
   "execution_count": 1,
   "metadata": {},
   "outputs": [],
   "source": [
    "import datetime as dt\n",
    "import pandas as pd\n",
    "import glob, os   \n",
    "import numpy as np"
   ]
  },
  {
   "cell_type": "code",
   "execution_count": 2,
   "metadata": {},
   "outputs": [],
   "source": [
    "# cols = list(pd.read_csv(\"ptaw2015.txt\", delim_whitespace=True,nrows =1))\n",
    "all_files = sorted(glob.glob(os.path.join('', \"46087_201*.txt\")))\n",
    "\n",
    "neah = pd.concat((pd.read_csv(f,delim_whitespace=True, header=[0,1]) for f in all_files),ignore_index=True)"
   ]
  },
  {
   "cell_type": "code",
   "execution_count": 3,
   "metadata": {},
   "outputs": [
    {
     "name": "stderr",
     "output_type": "stream",
     "text": [
      "/home/rbeutel/anaconda3/envs/eosc510/lib/python3.9/site-packages/pandas/core/generic.py:3889: PerformanceWarning: dropping on a non-lexsorted multi-index without a level parameter may impact performance.\n",
      "  obj = obj._drop_axis(labels, axis, level=level, errors=errors)\n"
     ]
    }
   ],
   "source": [
    "drop_vars = [\n",
    "    \"GST\", \n",
    "    \"GDR\", \n",
    "    \"GTIME\", \n",
    "]\n",
    "\n",
    "neah = neah.drop(labels=drop_vars, axis=1)"
   ]
  },
  {
   "cell_type": "code",
   "execution_count": 4,
   "metadata": {},
   "outputs": [
    {
     "data": {
      "text/plain": [
       "#YY   #yr     0\n",
       "MM    mo      0\n",
       "DD    dy      0\n",
       "hh    hr      0\n",
       "mm    mn      0\n",
       "WDIR  degT    0\n",
       "WSPD  m/s     0\n",
       "dtype: int64"
      ]
     },
     "execution_count": 4,
     "metadata": {},
     "output_type": "execute_result"
    }
   ],
   "source": [
    "#out of curiosity lets count the number of NaN\n",
    "neah.isna().sum()"
   ]
  },
  {
   "cell_type": "code",
   "execution_count": 5,
   "metadata": {},
   "outputs": [],
   "source": [
    "#Replace NaN <- don't need to do this since there are no NaN\n",
    "# Sheringham['Temp (°C)'] = Sheringham['Temp (°C)'].fillna(0)\n",
    "# Sheringham['Wind Dir (10s deg)'] = Sheringham['Wind Dir (10s deg)'].fillna(0)\n",
    "# Sheringham['Wind Spd (km/h)'] = Sheringham['Wind Spd (km/h)'].fillna(0)\n",
    "# Sheringham['Stn Press (kPa)'] = Sheringham['Stn Press (kPa)'].fillna(101)"
   ]
  },
  {
   "cell_type": "code",
   "execution_count": 6,
   "metadata": {},
   "outputs": [],
   "source": [
    "day = []\n",
    "\n",
    "day = [str(dt.datetime(neah['#YY']['#yr'][i],neah['MM']['mo'][i],neah['DD']['dy'][i],neah['hh']['hr'][i],neah['mm']['mn'][i])) for i in range(len(neah['#YY']['#yr']))]"
   ]
  },
  {
   "cell_type": "code",
   "execution_count": 7,
   "metadata": {},
   "outputs": [],
   "source": [
    "neah['Date/Time']=day #create a column with the date/time list info\n",
    "#neah.set_index('Date/Time', inplace = True) #set this column as the index of the the file\n",
    "neah = neah.drop(labels=['#YY','MM','DD','hh','mm'], axis=1) #remove the columns that have the year, month, day, hour, minute info as not this is unnessecary"
   ]
  },
  {
   "cell_type": "code",
   "execution_count": 8,
   "metadata": {},
   "outputs": [
    {
     "data": {
      "text/html": [
       "<div>\n",
       "<style scoped>\n",
       "    .dataframe tbody tr th:only-of-type {\n",
       "        vertical-align: middle;\n",
       "    }\n",
       "\n",
       "    .dataframe tbody tr th {\n",
       "        vertical-align: top;\n",
       "    }\n",
       "\n",
       "    .dataframe thead tr th {\n",
       "        text-align: left;\n",
       "    }\n",
       "</style>\n",
       "<table border=\"1\" class=\"dataframe\">\n",
       "  <thead>\n",
       "    <tr>\n",
       "      <th></th>\n",
       "      <th>WDIR</th>\n",
       "      <th>WSPD</th>\n",
       "      <th>Date/Time</th>\n",
       "    </tr>\n",
       "    <tr>\n",
       "      <th></th>\n",
       "      <th>degT</th>\n",
       "      <th>m/s</th>\n",
       "      <th></th>\n",
       "    </tr>\n",
       "  </thead>\n",
       "  <tbody>\n",
       "    <tr>\n",
       "      <th>0</th>\n",
       "      <td>109</td>\n",
       "      <td>6.2</td>\n",
       "      <td>2014-12-31 23:00:00</td>\n",
       "    </tr>\n",
       "    <tr>\n",
       "      <th>1</th>\n",
       "      <td>112</td>\n",
       "      <td>5.7</td>\n",
       "      <td>2014-12-31 23:10:00</td>\n",
       "    </tr>\n",
       "    <tr>\n",
       "      <th>2</th>\n",
       "      <td>112</td>\n",
       "      <td>6.0</td>\n",
       "      <td>2014-12-31 23:20:00</td>\n",
       "    </tr>\n",
       "    <tr>\n",
       "      <th>3</th>\n",
       "      <td>117</td>\n",
       "      <td>5.8</td>\n",
       "      <td>2014-12-31 23:30:00</td>\n",
       "    </tr>\n",
       "    <tr>\n",
       "      <th>4</th>\n",
       "      <td>118</td>\n",
       "      <td>5.7</td>\n",
       "      <td>2014-12-31 23:40:00</td>\n",
       "    </tr>\n",
       "    <tr>\n",
       "      <th>...</th>\n",
       "      <td>...</td>\n",
       "      <td>...</td>\n",
       "      <td>...</td>\n",
       "    </tr>\n",
       "    <tr>\n",
       "      <th>262320</th>\n",
       "      <td>209</td>\n",
       "      <td>9.3</td>\n",
       "      <td>2019-12-31 22:40:00</td>\n",
       "    </tr>\n",
       "    <tr>\n",
       "      <th>262321</th>\n",
       "      <td>212</td>\n",
       "      <td>9.7</td>\n",
       "      <td>2019-12-31 22:50:00</td>\n",
       "    </tr>\n",
       "    <tr>\n",
       "      <th>262322</th>\n",
       "      <td>215</td>\n",
       "      <td>10.2</td>\n",
       "      <td>2019-12-31 23:00:00</td>\n",
       "    </tr>\n",
       "    <tr>\n",
       "      <th>262323</th>\n",
       "      <td>213</td>\n",
       "      <td>10.8</td>\n",
       "      <td>2019-12-31 23:10:00</td>\n",
       "    </tr>\n",
       "    <tr>\n",
       "      <th>262324</th>\n",
       "      <td>216</td>\n",
       "      <td>11.0</td>\n",
       "      <td>2019-12-31 23:20:00</td>\n",
       "    </tr>\n",
       "  </tbody>\n",
       "</table>\n",
       "<p>262325 rows × 3 columns</p>\n",
       "</div>"
      ],
      "text/plain": [
       "       WDIR  WSPD            Date/Time\n",
       "       degT   m/s                     \n",
       "0       109   6.2  2014-12-31 23:00:00\n",
       "1       112   5.7  2014-12-31 23:10:00\n",
       "2       112   6.0  2014-12-31 23:20:00\n",
       "3       117   5.8  2014-12-31 23:30:00\n",
       "4       118   5.7  2014-12-31 23:40:00\n",
       "...     ...   ...                  ...\n",
       "262320  209   9.3  2019-12-31 22:40:00\n",
       "262321  212   9.7  2019-12-31 22:50:00\n",
       "262322  215  10.2  2019-12-31 23:00:00\n",
       "262323  213  10.8  2019-12-31 23:10:00\n",
       "262324  216  11.0  2019-12-31 23:20:00\n",
       "\n",
       "[262325 rows x 3 columns]"
      ]
     },
     "execution_count": 8,
     "metadata": {},
     "output_type": "execute_result"
    }
   ],
   "source": [
    "neah"
   ]
  },
  {
   "cell_type": "code",
   "execution_count": 9,
   "metadata": {},
   "outputs": [],
   "source": [
    "#export the data as a csv\n",
    "neah.to_csv('neah.csv',index=False)"
   ]
  },
  {
   "cell_type": "code",
   "execution_count": null,
   "metadata": {},
   "outputs": [],
   "source": []
  }
 ],
 "metadata": {
  "kernelspec": {
   "display_name": "eosc510",
   "language": "python",
   "name": "eosc510"
  },
  "language_info": {
   "codemirror_mode": {
    "name": "ipython",
    "version": 3
   },
   "file_extension": ".py",
   "mimetype": "text/x-python",
   "name": "python",
   "nbconvert_exporter": "python",
   "pygments_lexer": "ipython3",
   "version": "3.9.0"
  }
 },
 "nbformat": 4,
 "nbformat_minor": 4
}
