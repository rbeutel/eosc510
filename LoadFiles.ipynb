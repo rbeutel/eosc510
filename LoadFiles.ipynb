{
 "cells": [
  {
   "cell_type": "markdown",
   "metadata": {},
   "source": [
    "# Load and Save Files for CanRCM4 Downscaling Project\n",
    "Load in and process HRDPS files here then export them as netcdf or numpy arrays"
   ]
  },
  {
   "cell_type": "code",
   "execution_count": 5,
   "metadata": {},
   "outputs": [],
   "source": [
    "import datetime as dt\n",
    "import pandas as pd\n",
    "import numpy as np\n",
    "import xarray as xr\n",
    "from pathlib import Path"
   ]
  },
  {
   "cell_type": "code",
   "execution_count": 1,
   "metadata": {},
   "outputs": [],
   "source": [
    "#HRDPS data for all of 2016 to end of 2019\n",
    "path = Path(\"/home/rbeutel/analysis/eosc510/proj.ipynb\").resolve().parents[2]\n",
    "path2 = \"/results/forcing/atmospheric/GEM2.5/operational/\"\n",
    "path = path/path2\n",
    "\n",
    "hrdps = xr.open_mfdataset(sorted(path.glob(\"ops_y201*.nc\")))"
   ]
  },
  {
   "cell_type": "code",
   "execution_count": null,
   "metadata": {},
   "outputs": [],
   "source": [
    "#next we want the HRDPS data to be daily instead of hourly\n",
    "hrdps = hrdps.resample(time_counter='D').mean(dim='time_counter')"
   ]
  },
  {
   "cell_type": "code",
   "execution_count": null,
   "metadata": {},
   "outputs": [],
   "source": [
    "#find index of extra day (leap day)\n",
    "ind = list(hrdps.time_counter.values).index(np.datetime64('2016-02-29T00:00:00.000000000'))\n",
    "\n",
    "#and then trim to be in a more relevant extent and remove leap day\n",
    "#(dont need the HRDPS data to stretch as far as it does inland)\n",
    "hrdps = hrdps.sel(x=slice(0., 480000.),time_counter=slice('2016-01-01 12:00:00', '2019-12-31 12:00:00'))\n",
    "hrdps_P = np.concatenate((hrdps.atmpres.values[0:ind,:,:], hrdps.atmpres.values[(ind+1):,:,:]))\n",
    "hrdps_U = np.concatenate((hrdps.u_wind.values[0:ind,:,:], hrdps.u_wind.values[(ind+1):,:,:]))\n",
    "hrdps_V = np.concatenate((hrdps.v_wind.values[0:ind,:,:], hrdps.v_wind.values[(ind+1):,:,:]))\n",
    "hrdps_T = np.concatenate((hrdps.tair.values[0:ind,:,:], hrdps.tair.values[(ind+1):,:,:]))"
   ]
  },
  {
   "cell_type": "code",
   "execution_count": null,
   "metadata": {},
   "outputs": [],
   "source": [
    "# set up titles\n",
    "netcdf_title = 'HRDPSsubset.nc'\n",
    "netcdf_comment = 'HRDPS2.5 datast used in CanRCM4 downscaling attempt for the Salish Sea'\n",
    "notebook = 'LoadFiles.ipynb'\n",
    "\n",
    "ds_attrs = {\n",
    "        'creator_email':\n",
    "            'rbeutel@eoas.ubc.ca',',\n",
    "        'institution_fullname': (\n",
    "            'Earth, Ocean & Atmospheric Sciences,'\n",
    "            ' University of British Columbia'\n",
    "        ),\n",
    "    'title': netcdf_title,\n",
    "    'comment': netcdf_comment,\n",
    "    'notebook': notebook,\n",
    "    'summary': f'sea-level pressure, N/S wind, E/W wind, temperature',\n",
    "    'history': (\n",
    "            '[{}] File creation.'\n",
    "            .format(dt.datetime.today().strftime('%Y-%m-%d'))\n",
    "        )\n",
    "}\n",
    "\n",
    "coords_c = {\n",
    "    'x' : np.arange(hrdps.x.shape[0]),\n",
    "    'y' : np.arange(hrdps.y.shape[0]),\n",
    "}\n",
    "\n",
    "coords = {\n",
    "    'x' : np.arange(hrdps.x.shape[0]),\n",
    "    'y' : np.arange(hrdps.y.shape[0]),\n",
    "    'time_counter' : hrdps.time_counter.values\n",
    "}\n",
    "\n",
    "data_c = {}\n",
    "var_attrs_c = {} \n",
    "\n",
    "data_c['nav_lat'] = hrdps.nav_lat.values\n",
    "var_attrs_c['nav_lat'] = {'units': 'degrees_north',\n",
    "                       'long_name': 'latitude'}\n",
    "\n",
    "data_c['nav_lon'] = hrdps.nav_lon.values\n",
    "var_attrs_c['nav_lon'] = {'units': 'degrees_east',\n",
    "                       'long_name': 'longitude'}\n",
    "\n",
    "da = {}\n",
    "for var in data_c:\n",
    "    da[var] = xr.DataArray(\n",
    "        data = data_c[var],\n",
    "        name=var,\n",
    "        dims=('y', 'x'),\n",
    "        coords = coords_c,\n",
    "        attrs = var_attrs_c[var])\n",
    "\n",
    "data = {}\n",
    "var_attrs = {}\n",
    "\n",
    "var_attrs['slp'] = {'units': 'Pa',\n",
    "                      'long_name': 'Pressure Reduced to MLS [Pa]'}\n",
    "data['slp'] = hrdps_P\n",
    "\n",
    "var_attrs['u_wind'] = {'units': 'm/s',\n",
    "                      'long_name': 'U component of wind [m/s]'}\n",
    "data['u_wind'] = hrdps_U\n",
    "\n",
    "var_attrs['v_wind'] = {'units': 'm/s',\n",
    "                      'long_name': 'V component of wind [m/s]'}\n",
    "data['v_wind'] = hrdps_V\n",
    "\n",
    "var_attrs['temp'] = {'units': 'oC',\n",
    "                      'long_name': 'Surface temperature [oC]'}\n",
    "data['temp'] = hrdps_T\n",
    "\n",
    "for var in data:\n",
    "    da[var] = xr.DataArray(\n",
    "        data = data[var],\n",
    "        name=var,\n",
    "        dims=('time_counter', 'y', 'x'),\n",
    "        coords = coords,\n",
    "        attrs = var_attrs[var])\n",
    "    \n",
    "\n",
    "ds = xr.Dataset(\n",
    "        data_vars={\n",
    "            'nav_lat': da['nav_lat'],\n",
    "            'nav_lon': da['nav_lon'],\n",
    "            'slp': da['slp'],\n",
    "            'u_wind': da['u_wind'],\n",
    "            'v_wind': da['v_wind'],\n",
    "            'temp': da['temp']},\n",
    "        coords = coords,\n",
    "        attrs = ds_attrs\n",
    ")\n",
    "\n",
    "ds"
   ]
  },
  {
   "cell_type": "code",
   "execution_count": null,
   "metadata": {},
   "outputs": [],
   "source": []
  }
 ],
 "metadata": {
  "kernelspec": {
   "display_name": "eosc510",
   "language": "python",
   "name": "eosc510"
  },
  "language_info": {
   "codemirror_mode": {
    "name": "ipython",
    "version": 3
   },
   "file_extension": ".py",
   "mimetype": "text/x-python",
   "name": "python",
   "nbconvert_exporter": "python",
   "pygments_lexer": "ipython3",
   "version": "3.9.0"
  }
 },
 "nbformat": 4,
 "nbformat_minor": 4
}
