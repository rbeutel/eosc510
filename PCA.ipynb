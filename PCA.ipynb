{
 "cells": [
  {
   "cell_type": "markdown",
   "metadata": {},
   "source": [
    "# PCA\n",
    "PCA steps for data downscaling projet, dominant PCs to be exported in an array since that is all we really work with in the main downscalling file (in an effort to reduce memory load)<br>\n",
    "\n",
    "World data preprocessing in this file because i didnt feel as if a new netCDF file was necessary for that data as it already loads rather quickly and doesn't take up much space"
   ]
  },
  {
   "cell_type": "code",
   "execution_count": 2,
   "metadata": {},
   "outputs": [],
   "source": [
    "#import required libraries\n",
    "import pandas as pd\n",
    "import numpy as np\n",
    "import xarray as xr\n",
    "import time\n",
    "from sklearn.decomposition import PCA"
   ]
  },
  {
   "cell_type": "code",
   "execution_count": 3,
   "metadata": {},
   "outputs": [],
   "source": [
    "#load in HRDPS and world data (for now still just working on pressure)\n",
    "P_world= xr.open_mfdataset([\"psl_NAM-22_CCCma-CanESM2_rcp45_r1i1p1_CCCma-CanRCM4_r2_day_20110101-20151231.nc\", \"psl_NAM-22_CCCma-CanESM2_rcp45_r1i1p1_CCCma-CanRCM4_r2_day_20160101-20201231.nc\"])\n",
    "U_world= xr.open_mfdataset([\"uas_NAM-22_CCCma-CanESM2_rcp45_r1i1p1_CCCma-CanRCM4_r2_day_20110101-20151231.nc\", \"uas_NAM-22_CCCma-CanESM2_rcp45_r1i1p1_CCCma-CanRCM4_r2_day_20160101-20201231.nc\"])\n",
    "V_world= xr.open_mfdataset([\"vas_NAM-22_CCCma-CanESM2_rcp45_r1i1p1_CCCma-CanRCM4_r2_day_20110101-20151231.nc\", \"vas_NAM-22_CCCma-CanESM2_rcp45_r1i1p1_CCCma-CanRCM4_r2_day_20160101-20201231.nc\"])\n",
    "hrdps = xr.open_dataset(\"hrdps_day_avgs_postSep2014.nc\")"
   ]
  },
  {
   "cell_type": "code",
   "execution_count": 4,
   "metadata": {},
   "outputs": [],
   "source": [
    "#first lets do some quick processing of the hrdps data\n",
    "hrdps_lat = hrdps.nav_lat.values.flatten()\n",
    "hrdps_lon = hrdps.nav_lon.values.flatten()\n",
    "p_temp = hrdps.atmpres.values\n",
    "u_temp = hrdps.u_wind.values\n",
    "v_temp = hrdps.u_wind.values"
   ]
  },
  {
   "cell_type": "code",
   "execution_count": 63,
   "metadata": {},
   "outputs": [],
   "source": [
    "#export the hrdps lat and lon\n",
    "np.savetxt(\"hrdps_lat.csv\", hrdps_lat, delimiter=\",\")\n",
    "np.savetxt(\"hrdps_lon.csv\", hrdps_lon, delimiter=\",\")"
   ]
  },
  {
   "cell_type": "code",
   "execution_count": 6,
   "metadata": {},
   "outputs": [
    {
     "name": "stdout",
     "output_type": "stream",
     "text": [
      "cummulative time -pressure done (s):1609971450.3316672\n",
      "cummulative time -U wind done (s):1609971453.7356806\n",
      "cummulative time -V wind done (s):1609971456.969175\n"
     ]
    }
   ],
   "source": [
    "#get pressure into a shape we can work in\n",
    "P_hrdps = np.empty((np.shape(p_temp)[1]*np.shape(p_temp)[2],np.shape(p_temp)[0]))\n",
    "for i in range(np.shape(p_temp)[0]):\n",
    "    P_hrdps[:,i] = np.reshape(p_temp[i],(np.shape(p_temp)[1]*np.shape(p_temp)[2],))\n",
    "print(f\"cummulative time -pressure done (s):\"+str(time.time()))\n",
    "    \n",
    "U_hrdps = np.empty((np.shape(u_temp)[1]*np.shape(u_temp)[2],np.shape(u_temp)[0]))\n",
    "for i in range(np.shape(u_temp)[0]):\n",
    "    U_hrdps[:,i] = np.reshape(u_temp[i],(np.shape(u_temp)[1]*np.shape(u_temp)[2],))\n",
    "print(f\"cummulative time -U wind done (s):\"+str(time.time()))\n",
    "    \n",
    "P_hrdps = np.empty((np.shape(p_temp)[1]*np.shape(p_temp)[2],np.shape(p_temp)[0]))\n",
    "for i in range(np.shape(p_temp)[0]):\n",
    "    P_hrdps[:,i] = np.reshape(p_temp[i],(np.shape(p_temp)[1]*np.shape(p_temp)[2],))\n",
    "print(f\"cummulative time -V wind done (s):\"+str(time.time()))"
   ]
  },
  {
   "cell_type": "code",
   "execution_count": 7,
   "metadata": {},
   "outputs": [],
   "source": [
    "#replace all nan with 101325 or 0\n",
    "P_hrdps = (pd.DataFrame(P_hrdps).fillna(101325)).to_numpy()\n",
    "U_hrdps = (pd.DataFrame(P_hrdps).fillna(0)).to_numpy()\n",
    "V_hrdps = (pd.DataFrame(P_hrdps).fillna(0)).to_numpy()"
   ]
  },
  {
   "cell_type": "code",
   "execution_count": 8,
   "metadata": {},
   "outputs": [],
   "source": [
    "#now for preprocessing of world data\n",
    "#trim the world dataset to be for right time extent\n",
    "#want days between September 12 2014 and December 31 2020\n",
    "P_world = P_world.sel(time=slice('2014-09-12 12:00:00', '2020-12-31 12:00:00'))\n",
    "U_world = U_world.sel(time=slice('2014-09-12 12:00:00', '2020-12-31 12:00:00'))\n",
    "V_world = V_world.sel(time=slice('2014-09-12 12:00:00', '2020-12-31 12:00:00'))"
   ]
  },
  {
   "cell_type": "code",
   "execution_count": 9,
   "metadata": {},
   "outputs": [],
   "source": [
    "#now extract the data you want from the CanRCM4 xarray and trim them according to lat and lon of the HRDPS data\n",
    "#first decide on range you want to work within for CanRCM4 data, want to overlap the HRDPS data by 10% of the max distance (y)\n",
    "buffer = (max(hrdps_lat)-min(hrdps_lat))*0.15\n",
    "\n",
    "lon = P_world.lon.values.flatten()\n",
    "lat = P_world.lat.values.flatten()\n",
    "\n",
    "index = []\n",
    "\n",
    "#first find idexes that fit into lon range and lat range\n",
    "for i in range(len(lon)):\n",
    "    if lon[i] > (min(hrdps_lon)-buffer) and lon[i] < (max(hrdps_lon)+buffer) and lat[i] > (min(hrdps_lat)-buffer) and lat[i] < (max(hrdps_lat)+buffer):\n",
    "        index.append(i)\n",
    "\n",
    "#now make new lat, and lon\n",
    "lat_RCM = []\n",
    "lon_RCM = []\n",
    "\n",
    "for i in index:\n",
    "    lat_RCM.append(lat[i])\n",
    "    lon_RCM.append(lon[i])"
   ]
  },
  {
   "cell_type": "code",
   "execution_count": 64,
   "metadata": {},
   "outputs": [],
   "source": [
    "#export the RCM lat and lon\n",
    "np.savetxt(\"RCM_lat.csv\", lat_RCM, delimiter=\",\")\n",
    "np.savetxt(\"RCM_lon.csv\", lon_RCM, delimiter=\",\")"
   ]
  },
  {
   "cell_type": "code",
   "execution_count": 28,
   "metadata": {},
   "outputs": [],
   "source": [
    "#load the data before trying to process it\n",
    "P = P_world.psl.values\n",
    "U = U_world.uas.values\n",
    "V = V_world.vas.values"
   ]
  },
  {
   "cell_type": "code",
   "execution_count": 29,
   "metadata": {},
   "outputs": [
    {
     "name": "stdout",
     "output_type": "stream",
     "text": [
      "time -pressure done (s):3.9428982734680176\n",
      "time -U wind done (s):3.5779924392700195\n",
      "time -V wind done (s):3.6302521228790283\n"
     ]
    }
   ],
   "source": [
    "#now convert data to 2D\n",
    "start = time.time()\n",
    "P2d = np.empty((len(P_world.rlat)*len(P_world.rlon),len(P_world.time)))\n",
    "               \n",
    "for i in range(len(P_world.time)):\n",
    "    P2d[:,i] = np.reshape(P[i],(len(P_world.rlat)*len(P_world.rlon),))\n",
    "print(f\"time -pressure done (s):\"+str(time.time()-start))\n",
    "\n",
    "               \n",
    "start = time.time()\n",
    "U2d = np.empty((len(U_world.rlat)*len(U_world.rlon),len(U_world.time)))\n",
    "               \n",
    "for i in range(len(U_world.time)):\n",
    "    U2d[:,i] = np.reshape(U[i],(len(U_world.rlat)*len(U_world.rlon),))\n",
    "print(f\"time -U wind done (s):\"+str(time.time()-start))\n",
    "\n",
    "               \n",
    "start = time.time()\n",
    "V2d = np.empty((len(V_world.rlat)*len(V_world.rlon),len(V_world.time)))\n",
    "               \n",
    "for i in range(len(V_world.time)):\n",
    "    V2d[:,i] = np.reshape(V[i],(len(V_world.rlat)*len(V_world.rlon),))\n",
    "print(f\"time -V wind done (s):\"+str(time.time()-start))"
   ]
  },
  {
   "cell_type": "code",
   "execution_count": 35,
   "metadata": {},
   "outputs": [],
   "source": [
    "#use indices found in lat-lon step to trim CanRCM4 extent\n",
    "\n",
    "P_RCM = np.empty((len(index),len(P_world.time)))\n",
    "\n",
    "for i in range(len(P_world.time)):\n",
    "    for j in range(len(index)):\n",
    "        P_RCM[j,i] = P2d[index[j],i]\n",
    "        \n",
    "U_RCM = np.empty((len(index),len(U_world.time)))\n",
    "\n",
    "for i in range(len(U_world.time)):\n",
    "    for j in range(len(index)):\n",
    "        U_RCM[j,i] = U2d[index[j],i]\n",
    "        \n",
    "V_RCM = np.empty((len(index),len(V_world.time)))\n",
    "\n",
    "for i in range(len(V_world.time)):\n",
    "    for j in range(len(index)):\n",
    "        V_RCM[j,i] = V2d[index[j],i]\n"
   ]
  },
  {
   "cell_type": "markdown",
   "metadata": {},
   "source": [
    "## PCA\n",
    "NOTE : before export find out how to limit range of the PCs so that you don't need to normalize afterwords"
   ]
  },
  {
   "cell_type": "code",
   "execution_count": 44,
   "metadata": {},
   "outputs": [],
   "source": [
    "#PCA on the world data\n",
    "#looking for dominant spatial patterns to be eigenvectors and how those spatial patterns evelove over the month to the the PCs)\n",
    "#need to take the transpose of the matrix \n",
    "\n",
    "data = P_RCM.T\n",
    "\n",
    "n_modes = np.min(np.shape(data))\n",
    "pca = PCA(n_components = n_modes)\n",
    "P_RCM_PCs = pca.fit_transform(data)\n",
    "P_RCM_eigvecs = pca.components_\n",
    "P_RCM_fracVar = pca.explained_variance_ratio_\n",
    "\n",
    "data = U_RCM.T\n",
    "\n",
    "n_modes = np.min(np.shape(data))\n",
    "pca = PCA(n_components = n_modes)\n",
    "U_RCM_PCs = pca.fit_transform(data)\n",
    "U_RCM_eigvecs = pca.components_\n",
    "U_RCM_fracVar = pca.explained_variance_ratio_\n",
    "\n",
    "data = V_RCM.T\n",
    "\n",
    "n_modes = np.min(np.shape(data))\n",
    "pca = PCA(n_components = n_modes)\n",
    "V_RCM_PCs = pca.fit_transform(data)\n",
    "V_RCM_eigvecs = pca.components_\n",
    "V_RCM_fracVar = pca.explained_variance_ratio_"
   ]
  },
  {
   "cell_type": "code",
   "execution_count": 67,
   "metadata": {},
   "outputs": [
    {
     "name": "stdout",
     "output_type": "stream",
     "text": [
      "Variable            Type       Data/Info\n",
      "----------------------------------------\n",
      "P                   ndarray    2301x260x310: 185460600 elems, type `float32`, 741842400 bytes (707.4760437011719 Mb)\n",
      "P2d                 ndarray    80600x2301: 185460600 elems, type `float64`, 1483684800 bytes (1414.9520874023438 Mb)\n",
      "PCA                 ABCMeta    <class 'sklearn.decomposition._pca.PCA'>\n",
      "P_RCM               ndarray    1085x2301: 2496585 elems, type `float64`, 19972680 bytes (19.04743194580078 Mb)\n",
      "P_RCM_PCs           ndarray    2301x1085: 2496585 elems, type `float64`, 19972680 bytes (19.04743194580078 Mb)\n",
      "P_RCM_eigvecs       ndarray    1085x1085: 1177225 elems, type `float64`, 9417800 bytes (8.981513977050781 Mb)\n",
      "P_RCM_fracVar       ndarray    1085: 1085 elems, type `float64`, 8680 bytes\n",
      "P_hrdps             ndarray    51338x2303: 118231414 elems, type `float64`, 945851312 bytes (902.0341033935547 Mb)\n",
      "P_hrdps_PCs         ndarray    2303x2303: 5303809 elems, type `float64`, 42430472 bytes (40.46485137939453 Mb)\n",
      "P_hrdps_eigvecs     ndarray    2303x51338: 118231414 elems, type `float64`, 945851312 bytes (902.0341033935547 Mb)\n",
      "P_hrdps_fracVar     ndarray    2303: 2303 elems, type `float64`, 18424 bytes\n",
      "P_world             Dataset    <xarray.Dataset>\\nDimensi<...> - The Government of C...\n",
      "RCM_PCs             ndarray    2301x1085: 2496585 elems, type `float64`, 19972680 bytes (19.04743194580078 Mb)\n",
      "RCM_eigvecs         ndarray    1085x1085: 1177225 elems, type `float64`, 9417800 bytes (8.981513977050781 Mb)\n",
      "RCM_fracVar         ndarray    1085: 1085 elems, type `float64`, 8680 bytes\n",
      "RMC_fracVar         ndarray    1085: 1085 elems, type `float64`, 8680 bytes\n",
      "U                   ndarray    2301x260x310: 185460600 elems, type `float32`, 741842400 bytes (707.4760437011719 Mb)\n",
      "U2d                 ndarray    80600x2301: 185460600 elems, type `float64`, 1483684800 bytes (1414.9520874023438 Mb)\n",
      "U_RCM               ndarray    1085x2301: 2496585 elems, type `float64`, 19972680 bytes (19.04743194580078 Mb)\n",
      "U_RCM_PCs           ndarray    2301x1085: 2496585 elems, type `float64`, 19972680 bytes (19.04743194580078 Mb)\n",
      "U_RCM_eigvecs       ndarray    1085x1085: 1177225 elems, type `float64`, 9417800 bytes (8.981513977050781 Mb)\n",
      "U_RCM_fracVar       ndarray    1085: 1085 elems, type `float64`, 8680 bytes\n",
      "U_hrdps             ndarray    51338x2303: 118231414 elems, type `float64`, 945851312 bytes (902.0341033935547 Mb)\n",
      "U_hrdps_PCs         ndarray    2303x2303: 5303809 elems, type `float64`, 42430472 bytes (40.46485137939453 Mb)\n",
      "U_hrdps_eigvecs     ndarray    2303x51338: 118231414 elems, type `float64`, 945851312 bytes (902.0341033935547 Mb)\n",
      "U_hrdps_fracVar     ndarray    2303: 2303 elems, type `float64`, 18424 bytes\n",
      "U_world             Dataset    <xarray.Dataset>\\nDimensi<...> - The Government of C...\n",
      "V                   ndarray    2301x260x310: 185460600 elems, type `float32`, 741842400 bytes (707.4760437011719 Mb)\n",
      "V2d                 ndarray    80600x2301: 185460600 elems, type `float64`, 1483684800 bytes (1414.9520874023438 Mb)\n",
      "V_RCM               ndarray    1085x2301: 2496585 elems, type `float64`, 19972680 bytes (19.04743194580078 Mb)\n",
      "V_RCM_PCs           ndarray    2301x1085: 2496585 elems, type `float64`, 19972680 bytes (19.04743194580078 Mb)\n",
      "V_RCM_eigvecs       ndarray    1085x1085: 1177225 elems, type `float64`, 9417800 bytes (8.981513977050781 Mb)\n",
      "V_RCM_fracVar       ndarray    1085: 1085 elems, type `float64`, 8680 bytes\n",
      "V_V_hrdps_eigvecs   ndarray    2303x51338: 118231414 elems, type `float64`, 945851312 bytes (902.0341033935547 Mb)\n",
      "V_hrdps             ndarray    51338x2303: 118231414 elems, type `float64`, 945851312 bytes (902.0341033935547 Mb)\n",
      "V_hrdps_PCs         ndarray    2303x2303: 5303809 elems, type `float64`, 42430472 bytes (40.46485137939453 Mb)\n",
      "V_hrdps_eigvecs     ndarray    2303x51338: 118231414 elems, type `float64`, 945851312 bytes (902.0341033935547 Mb)\n",
      "V_hrdps_fracVar     ndarray    2303: 2303 elems, type `float64`, 18424 bytes\n",
      "V_world             Dataset    <xarray.Dataset>\\nDimensi<...> - The Government of C...\n",
      "buffer              float64    0.9466476333015712\n",
      "data                ndarray    2303x51338: 118231414 elems, type `float64`, 945851312 bytes (902.0341033935547 Mb)\n",
      "dates               ndarray    2303: 2303 elems, type `datetime64[ns]`, 18424 bytes\n",
      "day1                int        1\n",
      "dayfinal            int        2301\n",
      "hrdps               Dataset    <xarray.Dataset>\\nDimensi<...>ounter, y, x) float32 ...\n",
      "hrdps_PCs           ndarray    2303x2303: 5303809 elems, type `float64`, 42430472 bytes (40.46485137939453 Mb)\n",
      "hrdps_eigvecs       ndarray    2303x51338: 118231414 elems, type `float64`, 945851312 bytes (902.0341033935547 Mb)\n",
      "hrdps_fracVar       ndarray    2303: 2303 elems, type `float64`, 18424 bytes\n",
      "hrdps_lat           ndarray    51338: 51338 elems, type `float64`, 410704 bytes (401.078125 kb)\n",
      "hrdps_lon           ndarray    51338: 51338 elems, type `float64`, 410704 bytes (401.078125 kb)\n",
      "i                   int        2300\n",
      "index               list       n=1085\n",
      "j                   int        1084\n",
      "lat                 ndarray    80600: 80600 elems, type `float64`, 644800 bytes (629.6875 kb)\n",
      "lat_RCM             list       n=1085\n",
      "lon                 ndarray    80600: 80600 elems, type `float64`, 644800 bytes (629.6875 kb)\n",
      "lon_RCM             list       n=1085\n",
      "n                   int        2\n",
      "n_modes             int64      2303\n",
      "np                  module     <module 'numpy' from '/ho<...>kages/numpy/__init__.py'>\n",
      "p_temp              ndarray    2303x266x193: 118231414 elems, type `float32`, 472925656 bytes (451.01705169677734 Mb)\n",
      "pca                 PCA        PCA(n_components=2303)\n",
      "pd                  module     <module 'pandas' from '/h<...>ages/pandas/__init__.py'>\n",
      "start               float      1609976756.587245\n",
      "time                module     <module 'time' (built-in)>\n",
      "u_temp              ndarray    2303x266x193: 118231414 elems, type `float32`, 472925656 bytes (451.01705169677734 Mb)\n",
      "v_temp              ndarray    2303x266x193: 118231414 elems, type `float32`, 472925656 bytes (451.01705169677734 Mb)\n",
      "xr                  module     <module 'xarray' from '/h<...>ages/xarray/__init__.py'>\n"
     ]
    }
   ],
   "source": [
    "whos"
   ]
  },
  {
   "cell_type": "code",
   "execution_count": null,
   "metadata": {},
   "outputs": [],
   "source": [
    "#export the relevant arrays to CSV\n",
    "np.savetxt(\"P_RCM_PCs.csv\", P_RCM_PCs, delimiter=\",\")\n",
    "np.savetxt(\"P_RCM_eigvecs.csv\", P_RCM_eigvecs, delimiter=\",\")\n",
    "np.savetxt(\"P_RCM_fracVar.csv\", P_RCM_fracVar, delimiter=\",\")\n",
    "\n",
    "np.savetxt(\"U_RCM_PCs.csv\", U_RCM_PCs, delimiter=\",\")\n",
    "np.savetxt(\"U_RCM_eigvecs.csv\", U_RCM_eigvecs, delimiter=\",\")\n",
    "np.savetxt(\"U_RCM_fracVar.csv\", U_RCM_fracVar, delimiter=\",\")\n",
    "\n",
    "np.savetxt(\"V_RCM_PCs.csv\", V_RCM_PCs, delimiter=\",\")\n",
    "np.savetxt(\"V_RCM_eigvecs.csv\", V_RCM_eigvecs, delimiter=\",\")\n",
    "np.savetxt(\"V_RCM_fracVar.csv\", V_RCM_fracVar, delimiter=\",\")"
   ]
  },
  {
   "cell_type": "code",
   "execution_count": 48,
   "metadata": {},
   "outputs": [],
   "source": [
    "#PCA on the HRDPS data \n",
    "data = P_hrdps.T\n",
    "\n",
    "n_modes = np.min(np.shape(data))\n",
    "pca = PCA(n_components = n_modes)\n",
    "P_hrdps_PCs = pca.fit_transform(data)\n",
    "P_hrdps_eigvecs = pca.components_\n",
    "P_hrdps_fracVar = pca.explained_variance_ratio_\n",
    "\n",
    "data = U_hrdps.T\n",
    "\n",
    "n_modes = np.min(np.shape(data))\n",
    "pca = PCA(n_components = n_modes)\n",
    "U_hrdps_PCs = pca.fit_transform(data)\n",
    "U_hrdps_eigvecs = pca.components_\n",
    "U_hrdps_fracVar = pca.explained_variance_ratio_\n",
    "\n",
    "data = P_hrdps.T\n",
    "\n",
    "n_modes = np.min(np.shape(data))\n",
    "pca = PCA(n_components = n_modes)\n",
    "V_hrdps_PCs = pca.fit_transform(data)\n",
    "V_hrdps_eigvecs = pca.components_\n",
    "V_hrdps_fracVar = pca.explained_variance_ratio_"
   ]
  },
  {
   "cell_type": "code",
   "execution_count": 49,
   "metadata": {},
   "outputs": [],
   "source": [
    "#export the relevant arrays to CSV\n",
    "np.savetxt(\"P_hrdps_PCs.csv\", P_hrdps_PCs, delimiter=\",\")\n",
    "np.savetxt(\"P_hrdps_eigvecs.csv\", P_hrdps_eigvecs, delimiter=\",\")\n",
    "np.savetxt(\"P_hrdps_fracVar.csv\", P_hrdps_fracVar, delimiter=\",\")\n",
    "\n",
    "np.savetxt(\"U_hrdps_PCs.csv\", U_hrdps_PCs, delimiter=\",\")\n",
    "np.savetxt(\"U_hrdps_eigvecs.csv\", U_hrdps_eigvecs, delimiter=\",\")\n",
    "np.savetxt(\"U_hrdps_fracVar.csv\", U_hrdps_fracVar, delimiter=\",\")\n",
    "\n",
    "np.savetxt(\"V_hrdps_PCs.csv\", V_hrdps_PCs, delimiter=\",\")\n",
    "np.savetxt(\"V_hrdps_eigvecs.csv\", V_hrdps_eigvecs, delimiter=\",\")\n",
    "np.savetxt(\"V_hrdps_fracVar.csv\", V_hrdps_fracVar, delimiter=\",\")"
   ]
  },
  {
   "cell_type": "code",
   "execution_count": 65,
   "metadata": {},
   "outputs": [],
   "source": [
    "#save date arrays that you want to work with\n",
    "dates = P_world.time.values\n",
    "np.savetxt(\"RCM_dates.csv\",dates,delimiter=\",\",fmt=\"%s\")\n",
    "dates = hrdps.time_counter.values\n",
    "np.savetxt(\"hrdps_dates.csv\",dates,delimiter=\",\",fmt=\"%s\")"
   ]
  },
  {
   "cell_type": "code",
   "execution_count": null,
   "metadata": {},
   "outputs": [],
   "source": []
  }
 ],
 "metadata": {
  "kernelspec": {
   "display_name": "eosc510",
   "language": "python",
   "name": "eosc510"
  },
  "language_info": {
   "codemirror_mode": {
    "name": "ipython",
    "version": 3
   },
   "file_extension": ".py",
   "mimetype": "text/x-python",
   "name": "python",
   "nbconvert_exporter": "python",
   "pygments_lexer": "ipython3",
   "version": "3.9.0"
  }
 },
 "nbformat": 4,
 "nbformat_minor": 4
}
